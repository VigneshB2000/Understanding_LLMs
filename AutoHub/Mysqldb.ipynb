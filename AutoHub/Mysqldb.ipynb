{
 "cells": [
  {
   "cell_type": "code",
   "execution_count": 1,
   "id": "73ef10a4-a123-4dae-8e17-74eaa35b2887",
   "metadata": {},
   "outputs": [],
   "source": [
    "from langchain_community.llms import GooglePalm"
   ]
  },
  {
   "cell_type": "code",
   "execution_count": 4,
   "id": "d23c734b-ddb3-40c0-b1fc-b224bc0e9bc6",
   "metadata": {},
   "outputs": [],
   "source": [
    "import configparser\n",
    "\n",
    "config = configparser.RawConfigParser()\n",
    "config.read('../config.config')\n",
    "googleapi_key = config.get('Keys', 'googleapi_key')\n",
    "llm = GooglePalm(google_api_key = googleapi_key, temperature = 0.7 )"
   ]
  },
  {
   "cell_type": "code",
   "execution_count": 5,
   "id": "4d5ce5a1-7195-45b0-b610-6027ad09b3de",
   "metadata": {},
   "outputs": [],
   "source": [
    "from langchain_community.utilities import SQLDatabase\n",
    "from langchain_experimental.sql import SQLDatabaseChain"
   ]
  },
  {
   "cell_type": "code",
   "execution_count": 13,
   "id": "634de238-2db9-4cd2-b37c-09b16869d40a",
   "metadata": {},
   "outputs": [
    {
     "name": "stdout",
     "output_type": "stream",
     "text": [
      "\n",
      "CREATE TABLE discounts (\n",
      "\tdiscount_id INTEGER(11) NOT NULL AUTO_INCREMENT, \n",
      "\tvehicle_id INTEGER(11) NOT NULL, \n",
      "\tpct_discount DECIMAL(5, 2), \n",
      "\tPRIMARY KEY (discount_id), \n",
      "\tCONSTRAINT discounts_ibfk_1 FOREIGN KEY(vehicle_id) REFERENCES vehicles (vehicle_id)\n",
      ")DEFAULT CHARSET=utf8 ENGINE=InnoDB\n",
      "\n",
      "/*\n",
      "3 rows from discounts table:\n",
      "discount_id\tvehicle_id\tpct_discount\n",
      "1\t29\t22.00\n",
      "2\t88\t22.00\n",
      "3\t41\t28.00\n",
      "*/\n",
      "\n",
      "\n",
      "CREATE TABLE vehicles (\n",
      "\tvehicle_id INTEGER(11) NOT NULL AUTO_INCREMENT, \n",
      "\tmake VARCHAR(50) NOT NULL, \n",
      "\tmodel VARCHAR(50) NOT NULL, \n",
      "\tyear YEAR(4) NOT NULL, \n",
      "\tcolor VARCHAR(50) NOT NULL, \n",
      "\tbody_style ENUM('Sedan','SUV','Truck','Van','Coupe','Convertible') NOT NULL, \n",
      "\tkms_driven INTEGER(11) NOT NULL, \n",
      "\tprice DECIMAL(10, 2) NOT NULL, \n",
      "\tstock_quantity INTEGER(11) NOT NULL, \n",
      "\tPRIMARY KEY (vehicle_id)\n",
      ")DEFAULT CHARSET=utf8 ENGINE=InnoDB\n",
      "\n",
      "/*\n",
      "3 rows from vehicles table:\n",
      "vehicle_id\tmake\tmodel\tyear\tcolor\tbody_style\tkms_driven\tprice\tstock_quantity\n",
      "1\tKia\tF-150\t2016\tWhite\tCoupe\t14213\t19341.00\t0\n",
      "2\tVolkswagen\tSilverado\t2019\tRed\tConvertible\t12672\t34852.00\t4\n",
      "3\tKia\tAccord\t2015\tSilver\tConvertible\t12746\t21227.00\t8\n",
      "*/\n"
     ]
    }
   ],
   "source": [
    "db_user = \"root\"\n",
    "db_password = \"1234\"\n",
    "db_host = \"localhost\"\n",
    "db_name = \"vickys_auto_hub\"\n",
    "\n",
    "db = SQLDatabase.from_uri(f\"mysql+pymysql://{db_user}:{db_password}@{db_host}/{db_name}\",sample_rows_in_table_info=3)\n",
    "\n",
    "print(db.table_info)"
   ]
  },
  {
   "cell_type": "code",
   "execution_count": 81,
   "id": "4842fec2-d214-4d68-9188-5c201a8a8512",
   "metadata": {},
   "outputs": [
    {
     "name": "stdout",
     "output_type": "stream",
     "text": [
      "\n",
      "\n",
      "\u001b[1m> Entering new SQLDatabaseChain chain...\u001b[0m\n",
      "How many Volkswagen are available beyond the year 2010?\n",
      "SQLQuery:\u001b[32;1m\u001b[1;3mSELECT count(*) FROM vehicles WHERE make = 'Volkswagen' AND year > 2010\u001b[0m\n",
      "SQLResult: \u001b[33;1m\u001b[1;3m[(9,)]\u001b[0m\n",
      "Answer:\u001b[32;1m\u001b[1;3m9\u001b[0m\n",
      "\u001b[1m> Finished chain.\u001b[0m\n"
     ]
    }
   ],
   "source": [
    "db_chain = SQLDatabaseChain.from_llm(llm, db, verbose=True)\n",
    "qns1 = db_chain.run(\"How many Volkswagen are available beyond the year 2010?\")"
   ]
  },
  {
   "cell_type": "code",
   "execution_count": 66,
   "id": "011b3db1-658f-43c0-bbaf-477f03951cb4",
   "metadata": {},
   "outputs": [
    {
     "name": "stdout",
     "output_type": "stream",
     "text": [
      "\n",
      "\n",
      "\u001b[1m> Entering new SQLDatabaseChain chain...\u001b[0m\n",
      "How much is the total price for all quantities of Kia F-150 models?\n",
      "SQLQuery:\u001b[32;1m\u001b[1;3mSELECT sum(price) FROM vehicles WHERE model = 'F-150' AND make = 'Kia'\u001b[0m\n",
      "SQLResult: \u001b[33;1m\u001b[1;3m[(Decimal('37973.00'),)]\u001b[0m\n",
      "Answer:\u001b[32;1m\u001b[1;3m37973.00\u001b[0m\n",
      "\u001b[1m> Finished chain.\u001b[0m\n"
     ]
    }
   ],
   "source": [
    "qns2 = db_chain(\"How much is the total price for all quantities of Kia F-150 models?\")"
   ]
  },
  {
   "cell_type": "code",
   "execution_count": 82,
   "id": "779c5e39-14f2-470e-948d-85242a8cb5b7",
   "metadata": {},
   "outputs": [
    {
     "name": "stdout",
     "output_type": "stream",
     "text": [
      "\n",
      "\n",
      "\u001b[1m> Entering new SQLDatabaseChain chain...\u001b[0m\n",
      "SELECT SUM(price*stock_quantity) FROM vehicles WHERE  model = 'F-150' AND make = 'Kia'\n",
      "SQLQuery:\u001b[32;1m\u001b[1;3mSELECT SUM(price*stock_quantity) FROM vehicles WHERE  model = 'F-150' AND make = 'Kia'\u001b[0m\n",
      "SQLResult: \u001b[33;1m\u001b[1;3m[(Decimal('261376.00'),)]\u001b[0m\n",
      "Answer:\u001b[32;1m\u001b[1;3m261376.00\u001b[0m\n",
      "\u001b[1m> Finished chain.\u001b[0m\n"
     ]
    }
   ],
   "source": [
    "qns2 = db_chain.run(\"SELECT SUM(price*stock_quantity) FROM vehicles WHERE  model = 'F-150' AND make = 'Kia'\")"
   ]
  },
  {
   "cell_type": "code",
   "execution_count": 53,
   "id": "6e829f5d-a32f-4928-99d3-8693df72409d",
   "metadata": {},
   "outputs": [
    {
     "name": "stdout",
     "output_type": "stream",
     "text": [
      "\n",
      "\n",
      "\u001b[1m> Entering new SQLDatabaseChain chain...\u001b[0m\n",
      "If all the available quantities of Nissan cars are sold with discounts applied, how much revenue will we make? \n",
      "SQLQuery:\u001b[32;1m\u001b[1;3mSELECT SUM(v.price - (v.price * d.pct_discount)) \n",
      "FROM vehicles AS v JOIN discounts AS d ON v.vehicle_id = d.vehicle_id \n",
      "WHERE v.make = 'Nissan' AND v.stock_quantity > 0\u001b[0m\n",
      "SQLResult: \u001b[33;1m\u001b[1;3m[(Decimal('-109094.0000'),)]\u001b[0m\n",
      "Answer:\u001b[32;1m\u001b[1;3m-109094.0000\u001b[0m\n",
      "\u001b[1m> Finished chain.\u001b[0m\n"
     ]
    }
   ],
   "source": [
    "qns3 = db_chain(\"If all the available quantities of Nissan cars are sold with discounts applied, how much revenue will we make? \")"
   ]
  },
  {
   "cell_type": "code",
   "execution_count": 51,
   "id": "c22864ef-ded7-42b1-b016-b114040a25ee",
   "metadata": {},
   "outputs": [
    {
     "data": {
      "text/plain": [
       "'2257611.68'"
      ]
     },
     "execution_count": 51,
     "metadata": {},
     "output_type": "execute_result"
    }
   ],
   "source": [
    "qns3"
   ]
  },
  {
   "cell_type": "code",
   "execution_count": 83,
   "id": "e97a4fa3-1abe-4355-932c-d50a1c0efc31",
   "metadata": {},
   "outputs": [
    {
     "name": "stdout",
     "output_type": "stream",
     "text": [
      "\n",
      "\n",
      "\u001b[1m> Entering new SQLDatabaseChain chain...\u001b[0m\n",
      "\n",
      "select sum(a.total_amount * ((100-COALESCE(discounts.pct_discount,0))/100)) as total_revenue from\n",
      "(select sum(price*stock_quantity) as total_amount, vehicle_id from vehicles where make = 'Nissan'\n",
      "group by vehicle_id) a left join discounts on a.vehicle_id = discounts.vehicle_id\n",
      " \n",
      "SQLQuery:\u001b[32;1m\u001b[1;3mselect sum(a.total_amount * ((100-COALESCE(discounts.pct_discount,0))/100)) as total_revenue from\n",
      "(select sum(price*stock_quantity) as total_amount, vehicle_id from vehicles where make = 'Nissan'\n",
      "group by vehicle_id) a left join discounts on a.vehicle_id = discounts.vehicle_id\u001b[0m\n",
      "SQLResult: \u001b[33;1m\u001b[1;3m[(Decimal('2257611.68000000'),)]\u001b[0m\n",
      "Answer:\u001b[32;1m\u001b[1;3m2257611.68\u001b[0m\n",
      "\u001b[1m> Finished chain.\u001b[0m\n"
     ]
    }
   ],
   "source": [
    "sql_code = \"\"\"\n",
    "select sum(a.total_amount * ((100-COALESCE(discounts.pct_discount,0))/100)) as total_revenue from\n",
    "(select sum(price*stock_quantity) as total_amount, vehicle_id from vehicles where make = 'Nissan'\n",
    "group by vehicle_id) a left join discounts on a.vehicle_id = discounts.vehicle_id\n",
    " \"\"\"\n",
    "\n",
    "qns3 = db_chain.run(sql_code)"
   ]
  },
  {
   "cell_type": "code",
   "execution_count": 55,
   "id": "afc10ff0-8b0a-4bfd-8759-0c1482691dd4",
   "metadata": {},
   "outputs": [
    {
     "data": {
      "text/plain": [
       "'2257611.68'"
      ]
     },
     "execution_count": 55,
     "metadata": {},
     "output_type": "execute_result"
    }
   ],
   "source": [
    "qns3"
   ]
  },
  {
   "cell_type": "code",
   "execution_count": 84,
   "id": "e9a979dc-73e8-4b39-a38f-3e3b6fb3ddba",
   "metadata": {},
   "outputs": [
    {
     "name": "stdout",
     "output_type": "stream",
     "text": [
      "\n",
      "\n",
      "\u001b[1m> Entering new SQLDatabaseChain chain...\u001b[0m\n",
      "select sum(price * stock_quantity from vehicles_ where make = 'Kia'\n",
      "SQLQuery:\u001b[32;1m\u001b[1;3mSELECT SUM(price * stock_quantity) FROM vehicles WHERE make = 'Kia'\u001b[0m\n",
      "SQLResult: \u001b[33;1m\u001b[1;3m[(Decimal('1583562.00'),)]\u001b[0m\n",
      "Answer:\u001b[32;1m\u001b[1;3m1583562.00\u001b[0m\n",
      "\u001b[1m> Finished chain.\u001b[0m\n"
     ]
    }
   ],
   "source": [
    "qns4 = db_chain.run(\"select sum(price * stock_quantity from vehicles_ where make = 'Kia'\")"
   ]
  },
  {
   "cell_type": "code",
   "execution_count": 31,
   "id": "b375ef1e-f5dc-4966-9d9d-1973db53ad1a",
   "metadata": {},
   "outputs": [
    {
     "name": "stdout",
     "output_type": "stream",
     "text": [
      "\n",
      "\n",
      "\u001b[1m> Entering new SQLDatabaseChain chain...\u001b[0m\n",
      "How many SUVs from Chevrolet do I actually have?\n",
      "SQLQuery:\u001b[32;1m\u001b[1;3mSELECT count(*) FROM vehicles WHERE make = 'Chevrolet' AND body_style = 'SUV'\u001b[0m\n",
      "SQLResult: \u001b[33;1m\u001b[1;3m[(3,)]\u001b[0m\n",
      "Answer:\u001b[32;1m\u001b[1;3m3\u001b[0m\n",
      "\u001b[1m> Finished chain.\u001b[0m\n"
     ]
    }
   ],
   "source": [
    "qns5 = db_chain.run(\"How many SUVs from Chevrolet do I actually have?\")"
   ]
  },
  {
   "cell_type": "code",
   "execution_count": 85,
   "id": "677fe58f-3da5-4f8a-9154-338cfb7d6cbe",
   "metadata": {},
   "outputs": [
    {
     "name": "stdout",
     "output_type": "stream",
     "text": [
      "\n",
      "\n",
      "\u001b[1m> Entering new SQLDatabaseChain chain...\u001b[0m\n",
      "select sum(stock_quantity) FROM vehicles AS v where v.make = 'Chevrolet' AND v.body_style = 'SUV';\n",
      "SQLQuery:\u001b[32;1m\u001b[1;3mSELECT sum(stock_quantity) FROM vehicles AS v WHERE v.make = 'Chevrolet' AND v.body_style = 'SUV'\u001b[0m\n",
      "SQLResult: \u001b[33;1m\u001b[1;3m[(Decimal('12'),)]\u001b[0m\n",
      "Answer:\u001b[32;1m\u001b[1;3m12\u001b[0m\n",
      "\u001b[1m> Finished chain.\u001b[0m\n"
     ]
    }
   ],
   "source": [
    "qns5 = db_chain.run(\"select sum(stock_quantity) FROM vehicles AS v where v.make = 'Chevrolet' AND v.body_style = 'SUV';\")"
   ]
  },
  {
   "cell_type": "code",
   "execution_count": 101,
   "id": "e1579e1c-0364-4949-883b-8ec19d5620d9",
   "metadata": {},
   "outputs": [
    {
     "name": "stdout",
     "output_type": "stream",
     "text": [
      "\n",
      "\n",
      "\u001b[1m> Entering new SQLDatabaseChain chain...\u001b[0m\n",
      "How many Chevrolet cars do I actually have?\n",
      "SQLQuery:\u001b[32;1m\u001b[1;3mSELECT COUNT(make) FROM vehicles WHERE make = 'Chevrolet'\u001b[0m\n",
      "SQLResult: \u001b[33;1m\u001b[1;3m[(12,)]\u001b[0m\n",
      "Answer:\u001b[32;1m\u001b[1;3m12\u001b[0m\n",
      "\u001b[1m> Finished chain.\u001b[0m\n"
     ]
    }
   ],
   "source": [
    "qns6 = db_chain.run(\"How many Chevrolet cars do I actually have?\")"
   ]
  },
  {
   "cell_type": "code",
   "execution_count": 102,
   "id": "5bcee359-a6da-4f1e-b3d7-f263c39de630",
   "metadata": {},
   "outputs": [
    {
     "name": "stdout",
     "output_type": "stream",
     "text": [
      "\n",
      "\n",
      "\u001b[1m> Entering new SQLDatabaseChain chain...\u001b[0m\n",
      "Select sum(stock_quantity) from vehicles where make= 'Chevrolet'\n",
      "SQLQuery:\u001b[32;1m\u001b[1;3mSELECT SUM(stock_quantity) FROM vehicles WHERE make = 'Chevrolet'\u001b[0m\n",
      "SQLResult: \u001b[33;1m\u001b[1;3m[(Decimal('57'),)]\u001b[0m\n",
      "Answer:\u001b[32;1m\u001b[1;3m57\u001b[0m\n",
      "\u001b[1m> Finished chain.\u001b[0m\n"
     ]
    }
   ],
   "source": [
    "qns6 = db_chain.run(\"Select sum(stock_quantity) from vehicles where make= 'Chevrolet'\")"
   ]
  },
  {
   "cell_type": "markdown",
   "id": "0afbd218-a577-4e2c-a649-1ab1339251b9",
   "metadata": {},
   "source": [
    "### Few shot Learning"
   ]
  },
  {
   "cell_type": "code",
   "execution_count": 103,
   "id": "99bb7200-35e8-4053-ab16-837372a075d7",
   "metadata": {},
   "outputs": [],
   "source": [
    "few_shots = [\n",
    "    {'Question' : \"How many Volkswagen are available beyond the year 2010?\",\n",
    "     'SQLQuery' : \"SELECT count(*) FROM vehicles WHERE make = 'Volkswagen' AND year > 2010\",\n",
    "     'SQLResult': \"Result of the SQL query\",\n",
    "     'Answer' : qns1},\n",
    "    {'Question': \"How much is the total price for all quantities of Kia F-150 models?\",\n",
    "     'SQLQuery':\"SELECT SUM(price*stock_quantity) FROM vehicles WHERE  model = 'F-150' AND make = 'Kia'\",\n",
    "     'SQLResult': \"Result of the SQL query\",\n",
    "     'Answer': qns2},\n",
    "    {'Question': \"If all the available quantities of Nissan cars are sold with discounts applied, how much revenue will we make?\" ,\n",
    "     'SQLQuery' : \"select sum(a.total_amount * ((100-COALESCE(discounts.pct_discount,0))/100)) as total_revenue from (select sum(price*stock_quantity) as total_amount, vehicle_id from vehicles where make = 'Nissan' group by vehicle_id) a left join discounts on a.vehicle_id = discounts.vehicle_id\",\n",
    "     'SQLResult': \"Result of the SQL query\",\n",
    "     'Answer': qns3},\n",
    "     {'Question' : \"If we have to sell all the Kia vehicles today. How much revenue will be generated without discount?\" ,\n",
    "      'SQLQuery': \"SELECT SUM(price * stock_quantity) FROM vehicles WHERE make = 'Kia'\",\n",
    "      'SQLResult': \"Result of the SQL query\",\n",
    "      'Answer' : qns4},\n",
    "    {'Question': \"How many SUVs from Chevrolet do I actually have?\",\n",
    "     'SQLQuery' : \"SELECT sum(stock_quantity) FROM vehicles AS v where v.make = 'Chevrolet' AND v.body_style = 'SUV'\",\n",
    "     'SQLResult': \"Result of the SQL query\",\n",
    "     'Answer' : qns5},\n",
    "    {'Question': \"How many Chevrolet cars do I actually have?\",\n",
    "     'SQLQuery' : \"Select sum(stock_quantity) from vehicles where make= 'Chevrolet'\",\n",
    "     'SQLResult': \"Result of the SQL query\",\n",
    "     'Answer' : qns6}\n",
    "    \n",
    "]"
   ]
  },
  {
   "cell_type": "code",
   "execution_count": 118,
   "id": "e2f153f9-20ac-44a5-8856-4c95f0a4df67",
   "metadata": {},
   "outputs": [
    {
     "data": {
      "text/plain": [
       "[{'Question': 'How many Volkswagen are available beyond the year 2010?',\n",
       "  'SQLQuery': \"SELECT count(*) FROM vehicles WHERE make = 'Volkswagen' AND year > 2010\",\n",
       "  'SQLResult': 'Result of the SQL query',\n",
       "  'Answer': '9'},\n",
       " {'Question': 'How much is the total price for all quantities of Kia F-150 models?',\n",
       "  'SQLQuery': \"SELECT SUM(price*stock_quantity) FROM vehicles WHERE  model = 'F-150' AND make = 'Kia'\",\n",
       "  'SQLResult': 'Result of the SQL query',\n",
       "  'Answer': '261376.00'},\n",
       " {'Question': 'If all the available quantities of Nissan cars are sold with discounts applied, how much revenue will we make?',\n",
       "  'SQLQuery': \"select sum(a.total_amount * ((100-COALESCE(discounts.pct_discount,0))/100)) as total_revenue from (select sum(price*stock_quantity) as total_amount, vehicle_id from vehicles where make = 'Nissan' group by vehicle_id) a left join discounts on a.vehicle_id = discounts.vehicle_id\",\n",
       "  'SQLResult': 'Result of the SQL query',\n",
       "  'Answer': '2257611.68'},\n",
       " {'Question': 'If we have to sell all the Kia vehicles today. How much revenue will be generated without discount?',\n",
       "  'SQLQuery': \"SELECT SUM(price * stock_quantity) FROM vehicles WHERE make = 'Kia'\",\n",
       "  'SQLResult': 'Result of the SQL query',\n",
       "  'Answer': '1583562.00'},\n",
       " {'Question': 'How many SUVs from Chevrolet do I actually have?',\n",
       "  'SQLQuery': \"SELECT sum(stock_quantity) FROM vehicles AS v where v.make = 'Chevrolet' AND v.body_style = 'SUV'\",\n",
       "  'SQLResult': 'Result of the SQL query',\n",
       "  'Answer': '12'},\n",
       " {'Question': 'How many Chevrolet cars do I actually have?',\n",
       "  'SQLQuery': \"Select sum(stock_quantity) from vehicles where make= 'Chevrolet'\",\n",
       "  'SQLResult': 'Result of the SQL query',\n",
       "  'Answer': '57'}]"
      ]
     },
     "execution_count": 118,
     "metadata": {},
     "output_type": "execute_result"
    }
   ],
   "source": [
    "few_shots"
   ]
  },
  {
   "cell_type": "code",
   "execution_count": 104,
   "id": "69710478-939a-4031-b2b4-036f2889dc8b",
   "metadata": {},
   "outputs": [],
   "source": [
    "from langchain_community.embeddings import HuggingFaceEmbeddings\n",
    "\n",
    "embeddings = HuggingFaceEmbeddings(model_name='sentence-transformers/all-MiniLM-L6-v2')\n",
    "to_vectorize = [\" \".join(example.values()) for example in few_shots]"
   ]
  },
  {
   "cell_type": "code",
   "execution_count": 105,
   "id": "b7a9565d-bda9-4343-b082-5dff99cd2310",
   "metadata": {},
   "outputs": [],
   "source": [
    "from langchain.vectorstores import Chroma\n",
    "vectorstore = Chroma.from_texts(to_vectorize, embeddings, metadatas=few_shots)"
   ]
  },
  {
   "cell_type": "code",
   "execution_count": 106,
   "id": "4db9da18-7a13-469d-8715-232859d3fb84",
   "metadata": {},
   "outputs": [],
   "source": [
    "from langchain.prompts import SemanticSimilarityExampleSelector\n",
    "\n",
    "example_selector = SemanticSimilarityExampleSelector(\n",
    "    vectorstore=vectorstore,\n",
    "    k=2)"
   ]
  },
  {
   "cell_type": "code",
   "execution_count": 107,
   "id": "0b95dd3e-d1a1-4fc0-beeb-767b792b8fa3",
   "metadata": {},
   "outputs": [
    {
     "data": {
      "text/plain": [
       "[{'Answer': '12',\n",
       "  'Question': 'How many SUVs from Chevrolet do I actually have?',\n",
       "  'SQLQuery': \"SELECT sum(stock_quantity) FROM vehicles AS v where v.make = 'Chevrolet' AND v.body_style = 'SUV'\",\n",
       "  'SQLResult': 'Result of the SQL query'},\n",
       " {'Answer': '12',\n",
       "  'Question': 'How many SUVs from Chevrolet do I actually have?',\n",
       "  'SQLQuery': \"SELECT sum(stock_quantity) FROM vehicles AS v where v.make = 'Chevrolet' AND v.body_style = 'SUV'\",\n",
       "  'SQLResult': 'Result of the SQL query'}]"
      ]
     },
     "execution_count": 107,
     "metadata": {},
     "output_type": "execute_result"
    }
   ],
   "source": [
    "example_selector.select_examples({\"Question\":\"How many sedans I have left in my store?\"})"
   ]
  },
  {
   "cell_type": "code",
   "execution_count": 108,
   "id": "6fdfe853-659d-4197-9ae9-e81b6503f27b",
   "metadata": {},
   "outputs": [],
   "source": [
    "from langchain.chains.sql_database.prompt import PROMPT_SUFFIX, _mysql_prompt"
   ]
  },
  {
   "cell_type": "code",
   "execution_count": 109,
   "id": "a52b5337-0b9c-4aaf-8a12-35007f3bb369",
   "metadata": {},
   "outputs": [
    {
     "name": "stdout",
     "output_type": "stream",
     "text": [
      "You are a MySQL expert. Given an input question, first create a syntactically correct MySQL query to run, then look at the results of the query and return the answer to the input question.\n",
      "Unless the user specifies in the question a specific number of examples to obtain, query for at most {top_k} results using the LIMIT clause as per MySQL. You can order the results to return the most informative data in the database.\n",
      "Never query for all columns from a table. You must query only the columns that are needed to answer the question. Wrap each column name in backticks (`) to denote them as delimited identifiers.\n",
      "Pay attention to use only the column names you can see in the tables below. Be careful to not query for columns that do not exist. Also, pay attention to which column is in which table.\n",
      "Pay attention to use CURDATE() function to get the current date, if the question involves \"today\".\n",
      "\n",
      "Use the following format:\n",
      "\n",
      "Question: Question here\n",
      "SQLQuery: SQL Query to run\n",
      "SQLResult: Result of the SQLQuery\n",
      "Answer: Final answer here\n",
      "\n",
      "\n"
     ]
    }
   ],
   "source": [
    "print(_mysql_prompt)"
   ]
  },
  {
   "cell_type": "code",
   "execution_count": 110,
   "id": "9ebad8f0-78f2-46eb-b065-7c86a506892f",
   "metadata": {},
   "outputs": [
    {
     "name": "stdout",
     "output_type": "stream",
     "text": [
      "Only use the following tables:\n",
      "{table_info}\n",
      "\n",
      "Question: {input}\n"
     ]
    }
   ],
   "source": [
    "print(PROMPT_SUFFIX)"
   ]
  },
  {
   "cell_type": "code",
   "execution_count": 111,
   "id": "fe0439d8-85fa-4a7c-9b99-0e0da230cbc5",
   "metadata": {},
   "outputs": [],
   "source": [
    "from langchain.prompts.prompt import PromptTemplate\n",
    "\n",
    "example_prompt = PromptTemplate(\n",
    "    input_variables=[\"Question\", \"SQLQuery\", \"SQLResult\",\"Answer\",],\n",
    "    template=\"\\nQuestion: {Question}\\nSQLQuery: {SQLQuery}\\nSQLResult: {SQLResult}\\nAnswer: {Answer}\",\n",
    ")"
   ]
  },
  {
   "cell_type": "code",
   "execution_count": 112,
   "id": "5caa65fe-0ce1-4438-80c3-446a683ec603",
   "metadata": {},
   "outputs": [],
   "source": [
    "from langchain.prompts import FewShotPromptTemplate\n",
    "\n",
    "few_shot_prompt = FewShotPromptTemplate(\n",
    "    example_selector=example_selector,\n",
    "    example_prompt=example_prompt,\n",
    "    prefix=_mysql_prompt,\n",
    "    suffix=PROMPT_SUFFIX,\n",
    "    input_variables=[\"input\", \"table_info\", \"top_k\"], #These variables are used in the prefix and suffix\n",
    ")\n"
   ]
  },
  {
   "cell_type": "code",
   "execution_count": 113,
   "id": "207c774d-a311-4aeb-b323-e85bafc36dd8",
   "metadata": {},
   "outputs": [],
   "source": [
    "new_chain = SQLDatabaseChain.from_llm(llm, db, verbose=True, prompt = few_shot_prompt)"
   ]
  },
  {
   "cell_type": "code",
   "execution_count": 115,
   "id": "153d3b76-81a6-443a-b72f-2cb6a9a5cbcf",
   "metadata": {},
   "outputs": [
    {
     "name": "stdout",
     "output_type": "stream",
     "text": [
      "\n",
      "\n",
      "\u001b[1m> Entering new SQLDatabaseChain chain...\u001b[0m\n",
      "What is the total quanity of Toyota cars left in store?\n",
      "SQLQuery:\u001b[32;1m\u001b[1;3mselect sum(stock_quantity) as total_quantity from vehicles where make = 'Toyota'\u001b[0m\n",
      "SQLResult: \u001b[33;1m\u001b[1;3m[(Decimal('52'),)]\u001b[0m\n",
      "Answer:\u001b[32;1m\u001b[1;3m52\u001b[0m\n",
      "\u001b[1m> Finished chain.\u001b[0m\n"
     ]
    },
    {
     "data": {
      "text/plain": [
       "{'query': 'What is the total quanity of Toyota cars left in store?',\n",
       " 'result': '52'}"
      ]
     },
     "execution_count": 115,
     "metadata": {},
     "output_type": "execute_result"
    }
   ],
   "source": [
    "new_chain(\"What is the total quanity of Toyota cars left in store?\")"
   ]
  },
  {
   "cell_type": "code",
   "execution_count": 116,
   "id": "a6313890-339c-4490-be3f-28b1d01da7e1",
   "metadata": {},
   "outputs": [
    {
     "name": "stdout",
     "output_type": "stream",
     "text": [
      "\n",
      "\n",
      "\u001b[1m> Entering new SQLDatabaseChain chain...\u001b[0m\n",
      "How many models of Toyota cars left in store?\n",
      "SQLQuery:\u001b[32;1m\u001b[1;3mSELECT count(distinct(model)) from vehicles where make = 'Toyota'\u001b[0m\n",
      "SQLResult: \u001b[33;1m\u001b[1;3m[(5,)]\u001b[0m\n",
      "Answer:\u001b[32;1m\u001b[1;3m5\u001b[0m\n",
      "\u001b[1m> Finished chain.\u001b[0m\n"
     ]
    },
    {
     "data": {
      "text/plain": [
       "{'query': 'How many models of Toyota cars left in store?', 'result': '5'}"
      ]
     },
     "execution_count": 116,
     "metadata": {},
     "output_type": "execute_result"
    }
   ],
   "source": [
    "new_chain(\"How many models of Toyota cars left in store?\")"
   ]
  },
  {
   "cell_type": "code",
   "execution_count": 117,
   "id": "aad967f6-2bfb-4703-9116-5d020bbaa228",
   "metadata": {},
   "outputs": [
    {
     "name": "stdout",
     "output_type": "stream",
     "text": [
      "\n",
      "\n",
      "\u001b[1m> Entering new SQLDatabaseChain chain...\u001b[0m\n",
      "WHich make generates highest revenue without discounts?\n",
      "SQLQuery:\u001b[32;1m\u001b[1;3mselect make, sum(price*stock_quantity) as total_revenue from vehicles where price*stock_quantity > (select max(price*stock_quantity) from vehicles where price*stock_quantity < (select sum(price*stock_quantity) from vehicles)) group by make order by total_revenue desc limit 1\u001b[0m\n",
      "SQLResult: \u001b[33;1m\u001b[1;3m\u001b[0m\n",
      "Answer:\u001b[32;1m\u001b[1;3mKia 48159.00\u001b[0m\n",
      "\u001b[1m> Finished chain.\u001b[0m\n"
     ]
    },
    {
     "data": {
      "text/plain": [
       "{'query': 'WHich make generates highest revenue without discounts?',\n",
       " 'result': 'Kia 48159.00'}"
      ]
     },
     "execution_count": 117,
     "metadata": {},
     "output_type": "execute_result"
    }
   ],
   "source": [
    "new_chain(\"WHich make generates highest revenue without discounts?\")"
   ]
  },
  {
   "cell_type": "code",
   "execution_count": null,
   "id": "739d5eab-fa2b-4003-ba63-10b67cc50a1c",
   "metadata": {},
   "outputs": [],
   "source": []
  }
 ],
 "metadata": {
  "kernelspec": {
   "display_name": "Python 3 (ipykernel)",
   "language": "python",
   "name": "python3"
  },
  "language_info": {
   "codemirror_mode": {
    "name": "ipython",
    "version": 3
   },
   "file_extension": ".py",
   "mimetype": "text/x-python",
   "name": "python",
   "nbconvert_exporter": "python",
   "pygments_lexer": "ipython3",
   "version": "3.10.11"
  }
 },
 "nbformat": 4,
 "nbformat_minor": 5
}
