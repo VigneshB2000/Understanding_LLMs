{
 "cells": [
  {
   "cell_type": "code",
   "execution_count": 47,
   "id": "f0786fee",
   "metadata": {},
   "outputs": [],
   "source": [
    "from the_secrets import openapi_key\n",
    "import os\n",
    "os.environ['OPENAI_API_KEY'] = openapi_key"
   ]
  },
  {
   "cell_type": "code",
   "execution_count": 48,
   "id": "f6bcaa76",
   "metadata": {},
   "outputs": [
    {
     "name": "stdout",
     "output_type": "stream",
     "text": [
      "\n",
      "\n",
      "1. Maharaja's Lounge\n",
      "2. Masala Mantra Cafe\n",
      "3. The Royal Chai Room\n",
      "4. Spice Palace Cafe\n",
      "5. Taj Mahal Bites\n",
      "6. Bollywood Bistro\n",
      "7. Saffron Sunrise Cafe\n",
      "8. Namaste Nook\n",
      "9. Curry Cove\n",
      "10. Karma Kitchen\n",
      "11. The Golden Samosa\n",
      "12. Tandoori Terrace\n",
      "13. Mughal's Munchies\n",
      "14. The Spice Route Cafe\n",
      "15. Chai Chaat House.\n"
     ]
    }
   ],
   "source": [
    "from langchain.llms import OpenAI\n",
    "\n",
    "llm = OpenAI(model=\"gpt-3.5-turbo-instruct\", temperature=0.6)\n",
    "name = llm.predict('Suggest me a fancy name for Indian cafe')\n",
    "print(name)"
   ]
  },
  {
   "cell_type": "code",
   "execution_count": 49,
   "id": "4f4cfa03",
   "metadata": {},
   "outputs": [
    {
     "data": {
      "text/plain": [
       "'Suggest me a fancy name for Mexican cafe'"
      ]
     },
     "execution_count": 49,
     "metadata": {},
     "output_type": "execute_result"
    }
   ],
   "source": [
    "from langchain.prompts import PromptTemplate\n",
    "\n",
    "prompt_template_name = PromptTemplate(\n",
    "    input_variables = ['cuisine'],\n",
    "    template = 'Suggest me a fancy name for {cuisine} cafe'\n",
    ")\n",
    "prompt_template_name.format(cuisine = 'Mexican')\n",
    "\n",
    "\n"
   ]
  },
  {
   "cell_type": "code",
   "execution_count": 50,
   "id": "c07842e1",
   "metadata": {},
   "outputs": [
    {
     "data": {
      "text/plain": [
       "'\\n\\n\"Stateside Bistro\"'"
      ]
     },
     "execution_count": 50,
     "metadata": {},
     "output_type": "execute_result"
    }
   ],
   "source": [
    "from langchain.chains import LLMChain\n",
    "\n",
    "chain = LLMChain(llm = llm, prompt= prompt_template_name)\n",
    "chain.run(\"American\")"
   ]
  },
  {
   "cell_type": "markdown",
   "id": "adef0e91",
   "metadata": {},
   "source": [
    "### Sequential Chains"
   ]
  },
  {
   "cell_type": "code",
   "execution_count": 51,
   "id": "b6dd97ca",
   "metadata": {},
   "outputs": [],
   "source": [
    "prompt_template_name = PromptTemplate(\n",
    "    input_variables = ['cuisine'],\n",
    "    template = 'Suggest me a fancy name for {cuisine} cafe'\n",
    ")\n",
    "\n",
    "prompt_template_items = PromptTemplate(\n",
    "    input_variables = ['cafe_name'],\n",
    "    template = 'Suggest some menu items for {cafe_name} cafe and return as comma seperated list.'\n",
    ")\n",
    "food_items_chain = LLMChain(llm = llm, prompt = prompt_template_items)\n",
    "name_chain = LLMChain(llm = llm, prompt = prompt_template_name)"
   ]
  },
  {
   "cell_type": "code",
   "execution_count": 52,
   "id": "52d1a498",
   "metadata": {},
   "outputs": [
    {
     "name": "stderr",
     "output_type": "stream",
     "text": [
      "Retrying langchain.llms.openai.completion_with_retry.<locals>._completion_with_retry in 4.0 seconds as it raised RateLimitError: Rate limit reached for organization org-TGdmkKUSGopDA467RYPMm3Sg on requests per min (RPM): Limit 3, Used 3, Requested 1. Please try again in 20s. Visit https://platform.openai.com/account/rate-limits to learn more. You can increase your rate limit by adding a payment method to your account at https://platform.openai.com/account/billing..\n",
      "Retrying langchain.llms.openai.completion_with_retry.<locals>._completion_with_retry in 4.0 seconds as it raised RateLimitError: Rate limit reached for organization org-TGdmkKUSGopDA467RYPMm3Sg on requests per min (RPM): Limit 3, Used 3, Requested 1. Please try again in 20s. Visit https://platform.openai.com/account/rate-limits to learn more. You can increase your rate limit by adding a payment method to your account at https://platform.openai.com/account/billing..\n",
      "Retrying langchain.llms.openai.completion_with_retry.<locals>._completion_with_retry in 4.0 seconds as it raised RateLimitError: Rate limit reached for organization org-TGdmkKUSGopDA467RYPMm3Sg on requests per min (RPM): Limit 3, Used 3, Requested 1. Please try again in 20s. Visit https://platform.openai.com/account/rate-limits to learn more. You can increase your rate limit by adding a payment method to your account at https://platform.openai.com/account/billing..\n",
      "Retrying langchain.llms.openai.completion_with_retry.<locals>._completion_with_retry in 8.0 seconds as it raised RateLimitError: Rate limit reached for organization org-TGdmkKUSGopDA467RYPMm3Sg on requests per min (RPM): Limit 3, Used 3, Requested 1. Please try again in 20s. Visit https://platform.openai.com/account/rate-limits to learn more. You can increase your rate limit by adding a payment method to your account at https://platform.openai.com/account/billing..\n"
     ]
    },
    {
     "name": "stdout",
     "output_type": "stream",
     "text": [
      "\n",
      "\n",
      "1. Butter Chicken\n",
      "2. Tandoori Chicken\n",
      "3. Vegetable Biryani\n",
      "4. Samosas\n",
      "5. Naan Bread\n",
      "6. Mango Lassi\n",
      "7. Palak Paneer\n",
      "8. Chicken Tikka Masala\n",
      "9. Lamb Rogan Josh\n",
      "10. Aloo Gobi\n",
      "11. Chai Tea\n",
      "12. Malai Kofta\n",
      "13. Chicken Korma\n",
      "14. Dal Makhani\n",
      "15. Gulab Jamun.\n"
     ]
    }
   ],
   "source": [
    "from langchain.chains import SimpleSequentialChain\n",
    "\n",
    "chain = SimpleSequentialChain(chains =[name_chain, food_items_chain])\n",
    "response = chain.run(\"indian\")\n",
    "print(response)"
   ]
  },
  {
   "cell_type": "code",
   "execution_count": 53,
   "id": "93917137",
   "metadata": {},
   "outputs": [],
   "source": [
    "prompt_template_name = PromptTemplate(\n",
    "    input_variables = ['cuisine'],\n",
    "    template = 'Suggest me a fancy name for {cuisine} cafe'\n",
    ")\n",
    "\n",
    "prompt_template_items = PromptTemplate(\n",
    "    input_variables = ['cafe_name'],\n",
    "    template = 'Suggest some menu items for {cafe_name} cafe and return as comma seperated list.'\n",
    ")\n",
    "name_chain = LLMChain(llm = llm, prompt = prompt_template_name, output_key = 'cafe_name')\n",
    "food_items_chain = LLMChain(llm = llm, prompt = prompt_template_items, output_key = 'menu_items')"
   ]
  },
  {
   "cell_type": "code",
   "execution_count": 29,
   "id": "d6e82656",
   "metadata": {},
   "outputs": [
    {
     "data": {
      "text/plain": [
       "{'cuisine': 'Arabic',\n",
       " 'cafe_name': \"\\n\\n1. Al-Hana Cafe\\n2. Oasis Lounge\\n3. Sultan's Delight\\n4. Shababia Bistro\\n5. Falak Al-Jannah\\n6. Al-Khaimah Cafe\\n7. Sahara Sips\\n8. Desert Rose Cafe\\n9. Al-Waha Tea House\\n10. Al-Makarim Coffee House\",\n",
       " 'menu_items': \"\\n\\n1. Al-Hana Cafe: \\n- Shawarma platter \\n- Hummus and pita bread \\n- Falafel wrap \\n- Lamb kebab \\n- Chicken shawarma salad \\n- Baklava \\n- Turkish coffee \\n\\n2. Oasis Lounge: \\n- Lamb biryani \\n- Tandoori chicken \\n- Vegetable samosas \\n- Butter chicken \\n- Naan bread \\n- Mango lassi \\n- Masala chai \\n\\n3. Sultan's Delight: \\n- Lamb kofta \\n- Chicken shawarma \\n- Tabouleh salad \\n- Baba ghanoush \\n- Beef shish kebab \\n- Baklava \\n- Turkish tea \\n\\n4. Shababia Bistro: \\n- Beef shawarma \\n- Falafel platter \\n- Fattoush salad \\n- Chicken shish taouk \\n- Kibbeh \\n- Mint lemonade \\n- Arabic coffee \\n\\n5. Falak Al-Jannah: \\n- Mansaf (traditional Jordanian dish) \\n- Chicken mandi \\n- Lamb kabsa \\n- Falafel sandwich \\n- Fattoush salad \\n- Baklava \\n- Arabic coffee \\n\\n6. Al-Khaimah Cafe: \\n-\"}"
      ]
     },
     "execution_count": 29,
     "metadata": {},
     "output_type": "execute_result"
    }
   ],
   "source": [
    "from langchain.chains import SequentialChain\n",
    "\n",
    "chain = SequentialChain(\n",
    "chains = [name_chain, food_items_chain],\n",
    "    input_variables = ['cuisine'],\n",
    "    output_variables = ['cafe_name', 'menu_items']\n",
    ")\n",
    "\n",
    "chain({'cuisine':'Arabic'})"
   ]
  },
  {
   "cell_type": "markdown",
   "id": "80444459",
   "metadata": {},
   "source": [
    "### Agents"
   ]
  },
  {
   "cell_type": "code",
   "execution_count": 5,
   "id": "24c8abb2",
   "metadata": {},
   "outputs": [],
   "source": [
    "from langchain.agents import AgentType, initialize, load_tools\n",
    "\n",
    "llm = OpenAI(model=\"gpt-3.5-turbo-instruct\", temperature=0.7)\n",
    "tools =load_tools(['wikipedia', 'llm-math'], llm =llm)\n",
    "\n",
    "agent = initialize.initialize_agent(\n",
    "    tools,\n",
    "    llm, \n",
    "    agent = AgentType.ZERO_SHOT_REACT_DESCRIPTION,\n",
    "    verbose = True\n",
    ")"
   ]
  },
  {
   "cell_type": "code",
   "execution_count": 39,
   "id": "5b3e2c40",
   "metadata": {},
   "outputs": [
    {
     "data": {
      "text/plain": [
       "'Leonardo Di Caprio was born on November 11, 1974, and will be 50 years old in 2024.'"
      ]
     },
     "execution_count": 39,
     "metadata": {},
     "output_type": "execute_result"
    }
   ],
   "source": [
    "agent.run('When was Leonardo Di Caprio born? What is his age at 2024?')"
   ]
  },
  {
   "cell_type": "code",
   "execution_count": 41,
   "id": "7c4204e7",
   "metadata": {},
   "outputs": [
    {
     "name": "stdout",
     "output_type": "stream",
     "text": [
      "\n",
      "\n",
      "\u001b[1m> Entering new AgentExecutor chain...\u001b[0m\n",
      "\u001b[32;1m\u001b[1;3m I need to find out Leonardo Di Caprio's birthdate and calculate his age in 2024\n",
      "Action: Wikipedia\n",
      "Action Input: Leonardo Di Caprio\u001b[0m\n",
      "Observation: \u001b[36;1m\u001b[1;3mPage: Leonardo DiCaprio\n",
      "Summary: Leonardo Wilhelm DiCaprio (; Italian: [diˈkaːprjo]; born November 11, 1974) is an American actor and film producer. Known for his work in biographical and period films, he is the recipient of numerous accolades, including an Academy Award, a British Academy Film Award, and three Golden Globe Awards. As of 2019, his films have grossed over $7.2 billion worldwide, and he has been placed eight times in annual rankings of the world's highest-paid actors.\n",
      "Born in Los Angeles, DiCaprio began his career in the late 1980s by appearing in television commercials. In the early 1990s, he had recurring roles in various television shows, such as the sitcom Parenthood, and had his first major film part as author Tobias Wolff in This Boy's Life (1993). He received critical acclaim and his first Academy Award and Golden Globe Award nominations for his performance as a developmentally disabled boy in What's Eating Gilbert Grape (1993). DiCaprio achieved international stardom with the star-crossed romances Romeo + Juliet (1996) and Titanic (1997). After the latter became the highest-grossing film in the world at the time, he reduced his workload for a few years. In an attempt to shed his image of a romantic hero, DiCaprio sought roles in other genres, including the 2002 crime dramas Catch Me If You Can and Gangs of New York; the latter marked the first of his many successful collaborations with director Martin Scorsese.\n",
      "DiCaprio continued to gain acclaim for his performances in the biopic The Aviator (2004), the political thriller Blood Diamond (2006), the crime drama The Departed (2006) and the romantic drama Revolutionary Road (2008). He later made environmental documentaries and starred in several high-profile directors' successful projects, including the action thriller Inception (2010), the western Django Unchained (2012), the biopic The Wolf of Wall Street (2013), the survival drama The Revenant (2015)—for which he won the Academy Award for Best Actor— the comedy-dramas Once Upon a Time in Hollywood (2019) and Don't Look Up (2021), and the crime drama Killers of the Flower Moon (2023).\n",
      "DiCaprio is the founder of Appian Way Productions—a production company that has made some of his films and the documentary series Greensburg (2008–2010)—and the Leonardo DiCaprio Foundation, a nonprofit organization devoted to promoting environmental awareness. A United Nations Messenger of Peace, he regularly supports charitable causes. In 2005, he was named a Commander of the Ordre des Arts et des Lettres for his contributions to the arts, and in 2016, he appeared in Time magazine's 100 most influential people in the world. DiCaprio was voted one of the 50 greatest actors of all time in a 2022 readers' poll by Empire.\n",
      "\n",
      "Page: Leonardo DiCaprio filmography\n",
      "Summary: Leonardo DiCaprio is an American actor who began his career performing as a child on television. He appeared on the shows The New Lassie (1989) and Santa Barbara (1990) and also had long running roles in the comedy-drama Parenthood (1990) and the sitcom Growing Pains (1991). DiCaprio played Tobias \"Toby\" Wolff opposite Robert De Niro in the biographical coming-of-age drama This Boy's Life in 1993. In the same year, he had a supporting role as a developmentally disabled boy Arnie Grape in What's Eating Gilbert Grape, which earned him nominations for the Academy Award for Best Supporting Actor and the Golden Globe Award for Best Supporting Actor – Motion Picture. In 1995, DiCaprio played the leading roles of an American author Jim Carroll in The Basketball Diaries and the French poet Arthur Rimbaud in Total Eclipse. The following year he played Romeo Montague in the Baz Luhrmann-directed film Romeo + Juliet (1996). DiCaprio starred with Kate Winslet in the James Cameron-directed film Titanic (1997). The film became the highest grossing at the worldwide box-office, and made him famous globally. For his performance as Jack Dawson, he received the MTV Movie Award for Be\u001b[0m\n",
      "Thought:\u001b[32;1m\u001b[1;3m I now have Leonardo Di Caprio's birthdate\n",
      "Action: Calculator\n",
      "Action Input: 1974 (year of birth)/2024 (year to calculate age)\u001b[0m\n",
      "Observation: \u001b[33;1m\u001b[1;3mAnswer: 0.9752964426877471\u001b[0m\n",
      "Thought:"
     ]
    },
    {
     "name": "stderr",
     "output_type": "stream",
     "text": [
      "Retrying langchain.llms.openai.completion_with_retry.<locals>._completion_with_retry in 4.0 seconds as it raised RateLimitError: Rate limit reached for organization org-TGdmkKUSGopDA467RYPMm3Sg on requests per min (RPM): Limit 3, Used 3, Requested 1. Please try again in 20s. Visit https://platform.openai.com/account/rate-limits to learn more. You can increase your rate limit by adding a payment method to your account at https://platform.openai.com/account/billing..\n",
      "Retrying langchain.llms.openai.completion_with_retry.<locals>._completion_with_retry in 4.0 seconds as it raised RateLimitError: Rate limit reached for organization org-TGdmkKUSGopDA467RYPMm3Sg on requests per min (RPM): Limit 3, Used 3, Requested 1. Please try again in 20s. Visit https://platform.openai.com/account/rate-limits to learn more. You can increase your rate limit by adding a payment method to your account at https://platform.openai.com/account/billing..\n",
      "Retrying langchain.llms.openai.completion_with_retry.<locals>._completion_with_retry in 4.0 seconds as it raised RateLimitError: Rate limit reached for organization org-TGdmkKUSGopDA467RYPMm3Sg on requests per min (RPM): Limit 3, Used 3, Requested 1. Please try again in 20s. Visit https://platform.openai.com/account/rate-limits to learn more. You can increase your rate limit by adding a payment method to your account at https://platform.openai.com/account/billing..\n"
     ]
    },
    {
     "name": "stdout",
     "output_type": "stream",
     "text": [
      "\u001b[32;1m\u001b[1;3m I now know Leonardo Di Caprio's age in 2024\n",
      "Final Answer: 0.9752964426877471 (rounded up to 1)\u001b[0m\n",
      "\n",
      "\u001b[1m> Finished chain.\u001b[0m\n"
     ]
    },
    {
     "data": {
      "text/plain": [
       "'0.9752964426877471 (rounded up to 1)'"
      ]
     },
     "execution_count": 41,
     "metadata": {},
     "output_type": "execute_result"
    }
   ],
   "source": [
    "#verbose = True\n",
    "agent.run('When was Leonardo Di Caprio born? What is his age at 2024?')"
   ]
  },
  {
   "cell_type": "markdown",
   "id": "d787bea8",
   "metadata": {},
   "source": [
    "#### SerpAPI"
   ]
  },
  {
   "cell_type": "code",
   "execution_count": 3,
   "id": "e3cc5e94",
   "metadata": {},
   "outputs": [],
   "source": [
    "import configparser\n",
    "config = configparser.RawConfigParser()\n",
    "config.read('config.config')\n",
    "serpapi_key = config.get('Keys', 'serpapi_key')\n",
    "os.environ['SERPAPI_API_KEY'] = serpapi_key"
   ]
  },
  {
   "cell_type": "code",
   "execution_count": 6,
   "id": "674a5d1f",
   "metadata": {},
   "outputs": [],
   "source": [
    "llm = OpenAI(model=\"gpt-3.5-turbo-instruct\", temperature=0)\n",
    "tools = load_tools(['serpapi','llm-math'], llm = llm)\n",
    "\n",
    "agent = initialize.initialize_agent(\n",
    "       tools,\n",
    "    llm,\n",
    "    agent = AgentType.ZERO_SHOT_REACT_DESCRIPTION,\n",
    "    verbose = True\n",
    ")"
   ]
  },
  {
   "cell_type": "code",
   "execution_count": 13,
   "id": "fba27ed2",
   "metadata": {},
   "outputs": [
    {
     "name": "stdout",
     "output_type": "stream",
     "text": [
      "\n",
      "\n",
      "\u001b[1m> Entering new AgentExecutor chain...\u001b[0m\n",
      "\u001b[32;1m\u001b[1;3m I should search for the answer using a search engine.\n",
      "Action: Search\n",
      "Action Input: \"GDP of US in 2023\"\u001b[0m\n",
      "Observation: \u001b[36;1m\u001b[1;3m{'type': 'organic_result', 'title': 'Ranking Countries by Economic Size in 2023', 'source': 'Visual Capitalist'}\u001b[0m\n",
      "Thought:\u001b[32;1m\u001b[1;3m This is a helpful article, but I need a specific number.\n",
      "Action: Search\n",
      "Action Input: \"US GDP 2023\"\u001b[0m\n",
      "Observation: \u001b[36;1m\u001b[1;3mReal gross domestic product (GDP) increased at an annual rate of 4.9 percent in the third quarter of 2023, according to the “third” estimate. In the second quarter, real GDP increased 2.1 percent. The increase in the third quarter primarily reflected increases in consumer spending and inventory investment.\u001b[0m\n",
      "Thought:\u001b[32;1m\u001b[1;3m I now know the final answer.\n",
      "Final Answer: The GDP of US in 2023 is projected to increase by 4.9 percent.\u001b[0m\n",
      "\n",
      "\u001b[1m> Finished chain.\u001b[0m\n"
     ]
    },
    {
     "data": {
      "text/plain": [
       "'The GDP of US in 2023 is projected to increase by 4.9 percent.'"
      ]
     },
     "execution_count": 13,
     "metadata": {},
     "output_type": "execute_result"
    }
   ],
   "source": [
    "agent.run('What is the GDP of US in 2023?')"
   ]
  },
  {
   "cell_type": "markdown",
   "id": "ddf65ff3",
   "metadata": {},
   "source": [
    "### Memory"
   ]
  },
  {
   "cell_type": "code",
   "execution_count": 22,
   "id": "34a2fec6",
   "metadata": {},
   "outputs": [
    {
     "name": "stdout",
     "output_type": "stream",
     "text": [
      "\n",
      "\n",
      "\"Casa de Sabores\" (House of Flavors)\n"
     ]
    }
   ],
   "source": [
    "chain = LLMChain(llm = llm, prompt = prompt_template_name)\n",
    "name = chain.run('Mexican')\n",
    "print(name)"
   ]
  },
  {
   "cell_type": "code",
   "execution_count": 24,
   "id": "00dc3380",
   "metadata": {},
   "outputs": [
    {
     "name": "stdout",
     "output_type": "stream",
     "text": [
      "\n",
      "\n",
      "\"Casa de Sabores\" (House of Flavors)\n"
     ]
    }
   ],
   "source": [
    "from langchain.memory import ConversationBufferMemory\n",
    "\n",
    "memory = ConversationBufferMemory()\n",
    "chain = LLMChain(llm = llm, prompt = prompt_template_name, memory = memory)\n",
    "name = chain.run('Mexican')\n",
    "print(name)"
   ]
  },
  {
   "cell_type": "code",
   "execution_count": 25,
   "id": "dabbb797",
   "metadata": {},
   "outputs": [
    {
     "name": "stdout",
     "output_type": "stream",
     "text": [
      "\n",
      "\n",
      "1. \"Spice & Chai\"\n",
      "2. \"Taj Mahal Cafe\"\n",
      "3. \"Namaste Bistro\"\n",
      "4. \"Curry & Coffee House\"\n",
      "5. \"Saffron Lounge\"\n",
      "6. \"Masala Cafe\"\n",
      "7. \"Bollywood Bites\"\n",
      "8. \"The Maharaja's Cafe\"\n",
      "9. \"Chai & Chaat Co.\"\n",
      "10. \"Indulge in India\"\n",
      "11. \"The Royal Indian Cafe\"\n",
      "12. \"Flavors of India\"\n",
      "13. \"Cinnamon & Cardamom Cafe\"\n",
      "14. \"The Tandoori Cafe\"\n",
      "15. \"Samosa & Chai House\"\n"
     ]
    }
   ],
   "source": [
    "name = chain.run('indian')\n",
    "print(name)"
   ]
  },
  {
   "cell_type": "code",
   "execution_count": 26,
   "id": "7b0d0316",
   "metadata": {},
   "outputs": [
    {
     "data": {
      "text/plain": [
       "ConversationBufferMemory(chat_memory=ChatMessageHistory(messages=[HumanMessage(content='Mexican', additional_kwargs={}, example=False), AIMessage(content='\\n\\n\"Casa de Sabores\" (House of Flavors)', additional_kwargs={}, example=False), HumanMessage(content='indian', additional_kwargs={}, example=False), AIMessage(content='\\n\\n1. \"Spice & Chai\"\\n2. \"Taj Mahal Cafe\"\\n3. \"Namaste Bistro\"\\n4. \"Curry & Coffee House\"\\n5. \"Saffron Lounge\"\\n6. \"Masala Cafe\"\\n7. \"Bollywood Bites\"\\n8. \"The Maharaja\\'s Cafe\"\\n9. \"Chai & Chaat Co.\"\\n10. \"Indulge in India\"\\n11. \"The Royal Indian Cafe\"\\n12. \"Flavors of India\"\\n13. \"Cinnamon & Cardamom Cafe\"\\n14. \"The Tandoori Cafe\"\\n15. \"Samosa & Chai House\"', additional_kwargs={}, example=False)]), output_key=None, input_key=None, return_messages=False, human_prefix='Human', ai_prefix='AI', memory_key='history')"
      ]
     },
     "execution_count": 26,
     "metadata": {},
     "output_type": "execute_result"
    }
   ],
   "source": [
    "chain.memory"
   ]
  },
  {
   "cell_type": "code",
   "execution_count": 27,
   "id": "c6fbed43",
   "metadata": {},
   "outputs": [
    {
     "name": "stdout",
     "output_type": "stream",
     "text": [
      "Human: Mexican\n",
      "AI: \n",
      "\n",
      "\"Casa de Sabores\" (House of Flavors)\n",
      "Human: indian\n",
      "AI: \n",
      "\n",
      "1. \"Spice & Chai\"\n",
      "2. \"Taj Mahal Cafe\"\n",
      "3. \"Namaste Bistro\"\n",
      "4. \"Curry & Coffee House\"\n",
      "5. \"Saffron Lounge\"\n",
      "6. \"Masala Cafe\"\n",
      "7. \"Bollywood Bites\"\n",
      "8. \"The Maharaja's Cafe\"\n",
      "9. \"Chai & Chaat Co.\"\n",
      "10. \"Indulge in India\"\n",
      "11. \"The Royal Indian Cafe\"\n",
      "12. \"Flavors of India\"\n",
      "13. \"Cinnamon & Cardamom Cafe\"\n",
      "14. \"The Tandoori Cafe\"\n",
      "15. \"Samosa & Chai House\"\n"
     ]
    }
   ],
   "source": [
    "print(chain.memory.buffer)"
   ]
  },
  {
   "cell_type": "code",
   "execution_count": 29,
   "id": "5bfe7949",
   "metadata": {},
   "outputs": [
    {
     "name": "stdout",
     "output_type": "stream",
     "text": [
      "The following is a friendly conversation between a human and an AI. The AI is talkative and provides lots of specific details from its context. If the AI does not know the answer to a question, it truthfully says it does not know.\n",
      "\n",
      "Current conversation:\n",
      "{history}\n",
      "Human: {input}\n",
      "AI:\n"
     ]
    }
   ],
   "source": [
    "from langchain.chains import ConversationChain\n",
    "\n",
    "convo = ConversationChain(llm =llm)\n",
    "print(convo.prompt.template)"
   ]
  },
  {
   "cell_type": "code",
   "execution_count": 30,
   "id": "6a8aea2c",
   "metadata": {},
   "outputs": [
    {
     "data": {
      "text/plain": [
       "' The first film for Christopher Nolan was \"Following\" in 1998. It was a low-budget independent film that he wrote, directed, and produced himself. It was shot in black and white and had a runtime of 69 minutes. It premiered at the San Francisco International Film Festival and received critical acclaim.'"
      ]
     },
     "execution_count": 30,
     "metadata": {},
     "output_type": "execute_result"
    }
   ],
   "source": [
    "convo.run('What was the first film for Christopher Nolan?')"
   ]
  },
  {
   "cell_type": "code",
   "execution_count": 31,
   "id": "3080e5bd",
   "metadata": {},
   "outputs": [
    {
     "data": {
      "text/plain": [
       "' The square root of 64 is 8.'"
      ]
     },
     "execution_count": 31,
     "metadata": {},
     "output_type": "execute_result"
    }
   ],
   "source": [
    "convo.run('What is the square root of 64?')"
   ]
  },
  {
   "cell_type": "code",
   "execution_count": 33,
   "id": "e6e8b697",
   "metadata": {},
   "outputs": [
    {
     "data": {
      "text/plain": [
       "' Christopher Nolan\\'s other notable works include \"Memento\" (2000), \"Insomnia\" (2002), \"The Prestige\" (2006), \"Inception\" (2010), \"Interstellar\" (2014), and \"Dunkirk\" (2017). He is known for his complex and mind-bending storytelling, as well as his use of practical effects and non-linear narratives.'"
      ]
     },
     "execution_count": 33,
     "metadata": {},
     "output_type": "execute_result"
    }
   ],
   "source": [
    "convo.run('What are his other peculiar works?')"
   ]
  },
  {
   "cell_type": "code",
   "execution_count": 34,
   "id": "a6bfd9a8",
   "metadata": {},
   "outputs": [
    {
     "data": {
      "text/plain": [
       "ConversationBufferMemory(chat_memory=ChatMessageHistory(messages=[HumanMessage(content='What was the first film for Christopher Nolan?', additional_kwargs={}, example=False), AIMessage(content=' The first film for Christopher Nolan was \"Following\" in 1998. It was a low-budget independent film that he wrote, directed, and produced himself. It was shot in black and white and had a runtime of 69 minutes. It premiered at the San Francisco International Film Festival and received critical acclaim.', additional_kwargs={}, example=False), HumanMessage(content='What is the square root of 64?', additional_kwargs={}, example=False), AIMessage(content=' The square root of 64 is 8.', additional_kwargs={}, example=False), HumanMessage(content='When was the film released?', additional_kwargs={}, example=False), AIMessage(content=' Which film are you referring to? Christopher Nolan has directed and produced multiple films.', additional_kwargs={}, example=False), HumanMessage(content='What are his other peculiar works?', additional_kwargs={}, example=False), AIMessage(content=' Christopher Nolan\\'s other notable works include \"Memento\" (2000), \"Insomnia\" (2002), \"The Prestige\" (2006), \"Inception\" (2010), \"Interstellar\" (2014), and \"Dunkirk\" (2017). He is known for his complex and mind-bending storytelling, as well as his use of practical effects and non-linear narratives.', additional_kwargs={}, example=False)]), output_key=None, input_key=None, return_messages=False, human_prefix='Human', ai_prefix='AI', memory_key='history')"
      ]
     },
     "execution_count": 34,
     "metadata": {},
     "output_type": "execute_result"
    }
   ],
   "source": [
    "convo.memory"
   ]
  },
  {
   "cell_type": "code",
   "execution_count": 35,
   "id": "20dde889",
   "metadata": {},
   "outputs": [
    {
     "name": "stdout",
     "output_type": "stream",
     "text": [
      "Human: What was the first film for Christopher Nolan?\n",
      "AI:  The first film for Christopher Nolan was \"Following\" in 1998. It was a low-budget independent film that he wrote, directed, and produced himself. It was shot in black and white and had a runtime of 69 minutes. It premiered at the San Francisco International Film Festival and received critical acclaim.\n",
      "Human: What is the square root of 64?\n",
      "AI:  The square root of 64 is 8.\n",
      "Human: When was the film released?\n",
      "AI:  Which film are you referring to? Christopher Nolan has directed and produced multiple films.\n",
      "Human: What are his other peculiar works?\n",
      "AI:  Christopher Nolan's other notable works include \"Memento\" (2000), \"Insomnia\" (2002), \"The Prestige\" (2006), \"Inception\" (2010), \"Interstellar\" (2014), and \"Dunkirk\" (2017). He is known for his complex and mind-bending storytelling, as well as his use of practical effects and non-linear narratives.\n"
     ]
    }
   ],
   "source": [
    "print(convo.memory.buffer)"
   ]
  },
  {
   "cell_type": "code",
   "execution_count": 42,
   "id": "379ccf00",
   "metadata": {},
   "outputs": [
    {
     "data": {
      "text/plain": [
       "' The first film directed by Christopher Nolan was \"Following\" in 1998. However, his first major success was \"Memento\" in 2000.'"
      ]
     },
     "execution_count": 42,
     "metadata": {},
     "output_type": "execute_result"
    }
   ],
   "source": [
    "from langchain.memory import ConversationBufferWindowMemory\n",
    "\n",
    "memory=ConversationBufferWindowMemory(k=1)\n",
    "\n",
    "convo = ConversationChain(\n",
    "llm = llm,\n",
    "memory = memory)\n",
    "\n",
    "convo.run('What is the first film for Crishtopher Nolan?')"
   ]
  },
  {
   "cell_type": "code",
   "execution_count": 43,
   "id": "9312e501",
   "metadata": {},
   "outputs": [
    {
     "data": {
      "text/plain": [
       "' One of the most iconic quotes from Batman is \"I\\'m Batman.\" Another popular one is \"It\\'s not who I am underneath, but what I do that defines me.\"'"
      ]
     },
     "execution_count": 43,
     "metadata": {},
     "output_type": "execute_result"
    }
   ],
   "source": [
    "convo.run('Mention any quote of Batman.')"
   ]
  },
  {
   "cell_type": "code",
   "execution_count": 44,
   "id": "a111f8ce",
   "metadata": {},
   "outputs": [
    {
     "data": {
      "text/plain": [
       "' 0 divided by 0 is undefined. It is a mathematical error because any number divided by 0 is undefined.'"
      ]
     },
     "execution_count": 44,
     "metadata": {},
     "output_type": "execute_result"
    }
   ],
   "source": [
    "convo.run('What is 0 divided by 0?')"
   ]
  },
  {
   "cell_type": "code",
   "execution_count": 45,
   "id": "9da20fdf",
   "metadata": {},
   "outputs": [
    {
     "name": "stderr",
     "output_type": "stream",
     "text": [
      "Retrying langchain.llms.openai.completion_with_retry.<locals>._completion_with_retry in 4.0 seconds as it raised RateLimitError: Rate limit reached for organization org-TGdmkKUSGopDA467RYPMm3Sg on requests per min (RPM): Limit 3, Used 3, Requested 1. Please try again in 20s. Visit https://platform.openai.com/account/rate-limits to learn more. You can increase your rate limit by adding a payment method to your account at https://platform.openai.com/account/billing..\n",
      "Retrying langchain.llms.openai.completion_with_retry.<locals>._completion_with_retry in 4.0 seconds as it raised RateLimitError: Rate limit reached for organization org-TGdmkKUSGopDA467RYPMm3Sg on requests per min (RPM): Limit 3, Used 3, Requested 1. Please try again in 20s. Visit https://platform.openai.com/account/rate-limits to learn more. You can increase your rate limit by adding a payment method to your account at https://platform.openai.com/account/billing..\n",
      "Retrying langchain.llms.openai.completion_with_retry.<locals>._completion_with_retry in 4.0 seconds as it raised RateLimitError: Rate limit reached for organization org-TGdmkKUSGopDA467RYPMm3Sg on requests per min (RPM): Limit 3, Used 3, Requested 1. Please try again in 20s. Visit https://platform.openai.com/account/rate-limits to learn more. You can increase your rate limit by adding a payment method to your account at https://platform.openai.com/account/billing..\n"
     ]
    },
    {
     "data": {
      "text/plain": [
       "' \"The only way to do great work is to love what you do.\" - Steve Jobs\\n\"Success is not final, failure is not fatal: It is the courage to continue that counts.\" - Winston Churchill\\n\"Believe you can and you\\'re halfway there.\" - Theodore Roosevelt'"
      ]
     },
     "execution_count": 45,
     "metadata": {},
     "output_type": "execute_result"
    }
   ],
   "source": [
    "convo.run('Mention some other quotes')"
   ]
  },
  {
   "cell_type": "code",
   "execution_count": 46,
   "id": "80a17ac4",
   "metadata": {},
   "outputs": [
    {
     "name": "stderr",
     "output_type": "stream",
     "text": [
      "Retrying langchain.llms.openai.completion_with_retry.<locals>._completion_with_retry in 4.0 seconds as it raised RateLimitError: Rate limit reached for organization org-TGdmkKUSGopDA467RYPMm3Sg on requests per min (RPM): Limit 3, Used 3, Requested 1. Please try again in 20s. Visit https://platform.openai.com/account/rate-limits to learn more. You can increase your rate limit by adding a payment method to your account at https://platform.openai.com/account/billing..\n",
      "Retrying langchain.llms.openai.completion_with_retry.<locals>._completion_with_retry in 4.0 seconds as it raised RateLimitError: Rate limit reached for organization org-TGdmkKUSGopDA467RYPMm3Sg on requests per min (RPM): Limit 3, Used 3, Requested 1. Please try again in 20s. Visit https://platform.openai.com/account/rate-limits to learn more. You can increase your rate limit by adding a payment method to your account at https://platform.openai.com/account/billing..\n"
     ]
    },
    {
     "data": {
      "text/plain": [
       "' I\\'m not sure which specific person you are referring to, but here are some other notable works from different individuals:\\n- \"To be yourself in a world that is constantly trying to make you something else is the greatest accomplishment.\" - Ralph Waldo Emerson\\n- \"The greatest glory in living lies not in never falling, but in rising every time we fall.\" - Nelson Mandela\\n- \"The only true wisdom is in knowing you know nothing.\" - Socrates\\n- \"The future belongs to those who believe in the beauty of their dreams.\" - Eleanor Roosevelt'"
      ]
     },
     "execution_count": 46,
     "metadata": {},
     "output_type": "execute_result"
    }
   ],
   "source": [
    "convo.run('What are his other peculiar works?')"
   ]
  },
  {
   "cell_type": "code",
   "execution_count": null,
   "id": "09515512",
   "metadata": {},
   "outputs": [],
   "source": []
  }
 ],
 "metadata": {
  "kernelspec": {
   "display_name": "Python 3 (ipykernel)",
   "language": "python",
   "name": "python3"
  },
  "language_info": {
   "codemirror_mode": {
    "name": "ipython",
    "version": 3
   },
   "file_extension": ".py",
   "mimetype": "text/x-python",
   "name": "python",
   "nbconvert_exporter": "python",
   "pygments_lexer": "ipython3",
   "version": "3.11.5"
  }
 },
 "nbformat": 4,
 "nbformat_minor": 5
}
